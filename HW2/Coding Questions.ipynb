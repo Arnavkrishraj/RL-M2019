{
 "cells": [
  {
   "cell_type": "markdown",
   "metadata": {},
   "source": [
    "### Import Statements"
   ]
  },
  {
   "cell_type": "code",
   "execution_count": 27,
   "metadata": {},
   "outputs": [],
   "source": [
    "import numpy as np\n",
    "from scipy import optimize"
   ]
  },
  {
   "cell_type": "markdown",
   "metadata": {},
   "source": [
    "## Q2"
   ]
  },
  {
   "cell_type": "code",
   "execution_count": 16,
   "metadata": {},
   "outputs": [],
   "source": [
    "# Defining Parameters\n",
    "\n",
    "r = 5 # Number of Rows\n",
    "c = 5 # Number of Columns\n",
    "gamma = 0.9 # Discount Factor\n",
    "\n",
    "# Special States\n",
    "A = (0,1)\n",
    "newA = (4,1)\n",
    "\n",
    "B = (0,3)\n",
    "newB = (2,3)"
   ]
  },
  {
   "cell_type": "code",
   "execution_count": 17,
   "metadata": {},
   "outputs": [],
   "source": [
    "def isValidCell(a,b):\n",
    "    return (0<=a and a<r and 0<=b and b<c)\n",
    "\n",
    "def isEdgeCell(a,b):\n",
    "    return ((a==0) or (a==r-1) or (b==0) or (b==c-1))\n",
    "\n",
    "def isCornerCell(a,b):\n",
    "    return((a==0 or a==r-1) and (b==0 or b==c-1))\n",
    "    \n",
    "def LocateNBR(a,b):\n",
    "    NBR = []\n",
    "    if(isValidCell(a-1,b)):\n",
    "        NBR.append((a-1,b))\n",
    "    if(isValidCell(a+1,b)):\n",
    "        NBR.append((a+1,b))\n",
    "    if(isValidCell(a,b-1)):\n",
    "        NBR.append((a,b-1))\n",
    "    if(isValidCell(a,b+1)):\n",
    "        NBR.append((a,b+1))\n",
    "        \n",
    "    return NBR\n",
    "    "
   ]
  },
  {
   "cell_type": "code",
   "execution_count": 22,
   "metadata": {},
   "outputs": [],
   "source": [
    "def BellmanEquation():\n",
    "    P = np.zeros((r*c,r*c)) # Transition Probabilities\n",
    "    R = np.zeros(r*c) # Reward Vector\n",
    "    \n",
    "    e = 0\n",
    "    for i in range(r):\n",
    "        for j in range(c):\n",
    "            if((i,j) == A):\n",
    "                P[e][c*newA[0] + newA[1]] = -gamma\n",
    "                P[e][c*i + j] = 1\n",
    "                R[e] = 10  # Reward from A to newA is 10\n",
    "            elif((i,j) == B):\n",
    "                P[e][c*newB[0] + newB[1]] = -gamma\n",
    "                P[e][c*i + j] = 1\n",
    "                R[e] = 5  # Reward from B to newB is 5\n",
    "                \n",
    "            else: # It is a normal cell\n",
    "                if(isCornerCell(i,j)):\n",
    "                    n = LocateNBR(i,j)\n",
    "                    for k in n:\n",
    "                        P[e][c*k[0] + k[1]] = -gamma/4 # Each direction is Equally probable\n",
    "                    P[e][c*i + j] = (1-gamma/2)\n",
    "                    R[e] = (-1/2)\n",
    "                \n",
    "                \n",
    "                elif(isEdgeCell(i,j)):\n",
    "                    n = LocateNBR(i,j)\n",
    "                    for k in n:\n",
    "                        P[e][c*k[0] + k[1]] = -gamma/4 # Each direction is Equally probable\n",
    "                    P[e][c*i + j] = (1-gamma/4)\n",
    "                    R[e] = (-1/4)\n",
    "                    \n",
    "                else:\n",
    "                    n = LocateNBR(i,j)\n",
    "                    for k in n:\n",
    "                        P[e][c*k[0] + k[1]] = -gamma/4 # Each direction is Equally probable\n",
    "                    P[e][c*i + j] = 1\n",
    "                    R[e] = 0\n",
    "            e+=1\n",
    "                    \n",
    "    return P, R\n",
    "\n",
    "\n",
    "P, R = BellmanEquation()"
   ]
  },
  {
   "cell_type": "code",
   "execution_count": 25,
   "metadata": {},
   "outputs": [],
   "source": [
    "V = np.dot(np.linalg.inv(P),R)"
   ]
  },
  {
   "cell_type": "code",
   "execution_count": 26,
   "metadata": {
    "collapsed": true
   },
   "outputs": [
    {
     "data": {
      "text/plain": [
       "array([[ 3.30899634,  8.78929186,  4.42761918,  5.32236759,  1.49217876],\n",
       "       [ 1.52158807,  2.99231786,  2.25013995,  1.9075717 ,  0.54740271],\n",
       "       [ 0.05082249,  0.73817059,  0.67311326,  0.35818621, -0.40314114],\n",
       "       [-0.9735923 , -0.43549543, -0.35488227, -0.58560509, -1.18307508],\n",
       "       [-1.85770055, -1.34523126, -1.22926726, -1.42291815, -1.97517905]])"
      ]
     },
     "execution_count": 26,
     "metadata": {},
     "output_type": "execute_result"
    }
   ],
   "source": [
    "np.reshape(V,(r,c))"
   ]
  },
  {
   "cell_type": "markdown",
   "metadata": {},
   "source": [
    "## Q4"
   ]
  },
  {
   "cell_type": "code",
   "execution_count": 44,
   "metadata": {},
   "outputs": [],
   "source": [
    "def OptimalPolicy():\n",
    "    P = np.zeros((4*r*c, r*c))\n",
    "    R = np.zeros(4*r*c)\n",
    "    \n",
    "    e = 0\n",
    "    for i in range(r):\n",
    "        for j in range(c):\n",
    "            if((i,j) == A):\n",
    "                P[e][c*newA[0] + newA[1]] = -gamma\n",
    "                P[e][c*i + j] = 1\n",
    "                R[e] = 10  # Reward from A to newA is 10\n",
    "                e+=1\n",
    "            elif((i,j) == B):\n",
    "                P[e][c*newB[0] + newB[1]] = -gamma\n",
    "                P[e][c*i + j] = 1\n",
    "                R[e] = 5  # Reward from R to newR is 5\n",
    "                e+=1\n",
    "            else:\n",
    "                if(isValidCell(i-1,j)):\n",
    "                    P[e][c*(i-1) + j] = -gamma\n",
    "                    P[e][c*i + j] = 1\n",
    "                    R[e] = 0\n",
    "                else:\n",
    "                    P[e][c*i + j] = 1-gamma\n",
    "                    R[e] = -1\n",
    "                e+=1\n",
    "                \n",
    "                if(isValidCell(i+1,j)):\n",
    "                    P[e][c*(i+1) + j] = -gamma\n",
    "                    P[e][c*i + j] = 1\n",
    "                    R[e] = 0\n",
    "                else:\n",
    "                    P[e][c*i + j] = 1-gamma\n",
    "                    R[e] = -1\n",
    "                e+=1\n",
    "                \n",
    "                if(isValidCell(i,j-1)):\n",
    "                    P[e][c*i + (j-1)] = -gamma\n",
    "                    P[e][c*i + j] = 1\n",
    "                    R[e] = 0\n",
    "                else:\n",
    "                    P[e][c*i + j] = 1-gamma\n",
    "                    R[e] = -1\n",
    "                e+=1\n",
    "                \n",
    "                if(isValidCell(i,j+1)):\n",
    "                    P[e][c*i + (j+1)] = -gamma\n",
    "                    P[e][c*i + j] = 1\n",
    "                    R[e] = 0\n",
    "                else:\n",
    "                    P[e][c*i + j] = 1-gamma\n",
    "                    R[e] = -1\n",
    "                e+=1\n",
    "            \n",
    "    return P,R"
   ]
  },
  {
   "cell_type": "code",
   "execution_count": 54,
   "metadata": {},
   "outputs": [],
   "source": [
    "P,R = OptimalPolicy()\n",
    "tmp = np.ones(r*c)\n",
    "\n",
    "\n",
    "vstar = np.round(np.reshape(optimize.linprog(tmp,-P,-R).x,(r,c)),1)"
   ]
  },
  {
   "cell_type": "code",
   "execution_count": 87,
   "metadata": {
    "collapsed": true
   },
   "outputs": [
    {
     "name": "stdout",
     "output_type": "stream",
     "text": [
      "0 0 - RIGHT\n",
      "0 1 - UP,DOWN,LEFT,RIGHT\n",
      "0 2 - LEFT,\n",
      "0 3 - UP,DOWN,LEFT,RIGHT\n",
      "0 4 - LEFT,\n",
      "1 0 - UP,RIGHT\n",
      "1 1 - UP,\n",
      "1 2 - UP,LEFT,\n",
      "1 3 - LEFT,\n",
      "1 4 - LEFT,\n",
      "2 0 - UP,RIGHT\n",
      "2 1 - UP,\n",
      "2 2 - UP,LEFT,\n",
      "2 3 - UP,LEFT,\n",
      "2 4 - UP,LEFT,\n",
      "3 0 - UP,RIGHT\n",
      "3 1 - UP,\n",
      "3 2 - UP,LEFT,\n",
      "3 3 - UP,LEFT,\n",
      "3 4 - UP,LEFT,\n",
      "4 0 - UP,RIGHT\n",
      "4 1 - UP,\n",
      "4 2 - UP,LEFT,\n",
      "4 3 - UP,LEFT,\n",
      "4 4 - UP,LEFT,\n"
     ]
    }
   ],
   "source": [
    "qstar = [False]*(4*r*c)\n",
    "#print(qstar)\n",
    "\n",
    "for i in range(r):\n",
    "    for j in range(c):\n",
    "        print(i,j, end=\"\")\n",
    "        print(\" - \",end=\"\")\n",
    "        \n",
    "        if((i,j) == A or (i,j) == B):\n",
    "            for k in range(4):\n",
    "                qstar[4*(c*i+j) + k] = True\n",
    "            print(\"UP,DOWN,LEFT,RIGHT\")   \n",
    "        else:\n",
    "            check =[]\n",
    "            if(isValidCell(i-1,j)):\n",
    "                check.append(vstar[i-1][j])\n",
    "            else:\n",
    "                check.append(-1)\n",
    "                \n",
    "            if(isValidCell(i+1,j)):\n",
    "                check.append(vstar[i+1][j])\n",
    "            else:\n",
    "                check.append(-1)\n",
    "                \n",
    "            if(isValidCell(i,j-1)):\n",
    "                check.append(vstar[i][j-1])\n",
    "            else:\n",
    "                check.append(-1)\n",
    "                \n",
    "            if(isValidCell(i,j+1)):\n",
    "                check.append(vstar[i][j+1])\n",
    "            else:\n",
    "                check.append(-1)\n",
    "            \n",
    "            check = np.array(check)\n",
    "            d = np.where(check == np.max(check))\n",
    "            for direc in d[0]:\n",
    "#               qstar[4*(c*i+j) + direc] = True\n",
    "                if(direc == 0):\n",
    "                    print(\"UP,\",end=\"\")\n",
    "                elif(direc == 1):\n",
    "                    print(\"DOWN,\",end=\"\")\n",
    "                elif(direc == 2):\n",
    "                    print(\"LEFT,\",end=\"\")\n",
    "                elif(direc == 3):\n",
    "                    print(\"RIGHT\",end=\"\")\n",
    "                \n",
    "            print(\"\")"
   ]
  },
  {
   "cell_type": "code",
   "execution_count": null,
   "metadata": {},
   "outputs": [],
   "source": []
  }
 ],
 "metadata": {
  "kernelspec": {
   "display_name": "Python 3",
   "language": "python",
   "name": "python3"
  },
  "language_info": {
   "codemirror_mode": {
    "name": "ipython",
    "version": 3
   },
   "file_extension": ".py",
   "mimetype": "text/x-python",
   "name": "python",
   "nbconvert_exporter": "python",
   "pygments_lexer": "ipython3",
   "version": "3.6.7"
  }
 },
 "nbformat": 4,
 "nbformat_minor": 2
}
