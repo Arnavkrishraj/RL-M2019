{
 "cells": [
  {
   "cell_type": "markdown",
   "metadata": {},
   "source": [
    "# Reinforcement Learning - M2019\n",
    "\n",
    "## Arnav Kumar - 2016228"
   ]
  },
  {
   "cell_type": "markdown",
   "metadata": {},
   "source": [
    "# Q2"
   ]
  },
  {
   "cell_type": "code",
   "execution_count": 14,
   "metadata": {},
   "outputs": [],
   "source": [
    "import numpy as np\n",
    "import matplotlib.pyplot as plt\n",
    "\n",
    "val = np.random.random()"
   ]
  },
  {
   "cell_type": "markdown",
   "metadata": {},
   "source": [
    "Stationery Case"
   ]
  },
  {
   "cell_type": "code",
   "execution_count": 10,
   "metadata": {},
   "outputs": [],
   "source": [
    "Runs = 2000\n",
    "TimeSteps = 2000\n",
    "Bandits = 10\n",
    "\n",
    "alpha = 0.1\n",
    "\n",
    "AvgRewardValue = np.zeros(TimeSteps)\n",
    "Optimalstep = np.zeros(TimeSteps)\n",
    "\n",
    "AvgOptimal = np.random.normal(0,1,Bandits)\n",
    "OptimalperStep = np.zeros(TimeSteps)\n",
    "\n",
    "for i in range(Runs):\n",
    "    a = np.zeros(Bandits) + 5\n",
    "    r = np.zeros(TimeSteps)\n",
    "    den = np.ones(Bandits)\n",
    "    \n",
    "    for j in range(TimeSteps):\n",
    "        currAction = np.argmax(a)\n",
    "        \n",
    "        reward = np.random.normal(AvgOptimal[currAction], 1)\n",
    "        \n",
    "        a[currAction] += alpha * (reward - a[currAction])\n",
    "        den[currAction] += 1\n",
    "        \n",
    "        r[j] = reward\n",
    "        optimalAction = np.argmax(AvgOptimal)\n",
    "        \n",
    "        if(optimalAction == currAction):\n",
    "            OptimalperStep[j] += 1\n",
    "            \n",
    "    AvgRewardValue += r\n",
    "    \n",
    "OptimalGreedyReward = AvgRewardValue / Runs\n",
    "OptimalGreedyRewardPerStep = OptimalperStep / Runs"
   ]
  },
  {
   "cell_type": "code",
   "execution_count": 11,
   "metadata": {},
   "outputs": [],
   "source": [
    "epsilon = 0.1\n",
    "AvgRewardValue = np.zeros(TimeSteps)\n",
    "Optimalstep = np.zeros(TimeSteps)\n",
    "\n",
    "AvgOptimal = np.random.normal(0,1,Bandits)\n",
    "OptimalperStep = np.zeros(TimeSteps)\n",
    "\n",
    "for i in range(Runs):\n",
    "    a = np.zeros(Bandits)\n",
    "    r = np.zeros(TimeSteps)\n",
    "    den = np.ones(Bandits)\n",
    "    \n",
    "    for j in range(TimeSteps):\n",
    "        explore = True\n",
    "        currAction = 0\n",
    "        prob = np.random.uniform(0,1)\n",
    "        \n",
    "        if(prob > epsilon):\n",
    "            explore = False\n",
    "            \n",
    "        if(explore):\n",
    "            currAction = np.random.randint(Bandits)\n",
    "        else:\n",
    "            currAction = np.argmax(a)\n",
    "            \n",
    "        reward = np.random.normal(AvgOptimal[currAction], 1)\n",
    "        \n",
    "        a[currAction] += alpha * (reward - a[currAction])\n",
    "        den[currAction] += 1\n",
    "        r[j] = reward\n",
    "        \n",
    "        optimalAction = np.argmax(AvgOptimal)\n",
    "        \n",
    "        if(optimalAction == currAction):\n",
    "            OptimalperStep[j] +=1\n",
    "            \n",
    "    AvgRewardValue += r\n",
    "    \n",
    "EpsilonGreedyReward = AvgRewardValue / Runs\n",
    "EpsilonGreedyRewardPerStep = OptimalperStep / Runs"
   ]
  },
  {
   "cell_type": "code",
   "execution_count": 12,
   "metadata": {},
   "outputs": [
    {
     "data": {
      "text/plain": [
       "<matplotlib.legend.Legend at 0x190e121d978>"
      ]
     },
     "execution_count": 12,
     "metadata": {},
     "output_type": "execute_result"
    },
    {
     "data": {
      "image/png": "[encoded data removed]",
      "text/plain": [
       "<Figure size 432x288 with 1 Axes>"
      ]
     },
     "metadata": {
      "needs_background": "light"
     },
     "output_type": "display_data"
    }
   ],
   "source": [
    "plt.plot(OptimalGreedyRewardPerStep,color='r',label = 'Optimistic Initial Values')\n",
    "plt.plot(EpsilonGreedyRewardPerStep,color='b',label = 'Realistic epsilon greedy')\n",
    "plt.legend()"
   ]
  },
  {
   "cell_type": "markdown",
   "metadata": {},
   "source": [
    "Non-stationery case"
   ]
  },
  {
   "cell_type": "code",
   "execution_count": 18,
   "metadata": {},
   "outputs": [],
   "source": [
    "Runs = 2000\n",
    "TimeSteps = 10000\n",
    "Bandits = 10\n",
    "\n",
    "alpha = 0.1\n",
    "\n",
    "AvgRewardValue = np.zeros(TimeSteps)\n",
    "Optimalstep = np.zeros(TimeSteps)\n",
    "\n",
    "\n",
    "OptimalperStep = np.zeros(TimeSteps)\n",
    "\n",
    "for i in range(Runs):\n",
    "    a = np.zeros(Bandits) + 5\n",
    "    r = np.zeros(TimeSteps)\n",
    "    den = np.ones(Bandits)\n",
    "    AvgOptimal = np.full(Bandits,val)\n",
    "    \n",
    "    for j in range(TimeSteps):\n",
    "        currAction = np.argmax(a)\n",
    "        \n",
    "        reward = np.random.normal(AvgOptimal[currAction], 1)\n",
    "        \n",
    "        a[currAction] += alpha * (reward - a[currAction])\n",
    "        den[currAction] += 1\n",
    "        \n",
    "        r[j] = reward\n",
    "        optimalAction = np.argmax(AvgOptimal)\n",
    "        \n",
    "        if(optimalAction == currAction):\n",
    "            OptimalperStep[j] += 1\n",
    "            \n",
    "    AvgRewardValue += r\n",
    "    \n",
    "OptimalGreedyRewardPerStepforNonsta = OptimalperStep / Runs"
   ]
  },
  {
   "cell_type": "code",
   "execution_count": 19,
   "metadata": {},
   "outputs": [],
   "source": [
    "epsilon = 0.1\n",
    "AvgRewardValue = np.zeros(TimeSteps)\n",
    "Optimalstep = np.zeros(TimeSteps)\n",
    "\n",
    "OptimalperStep = np.zeros(TimeSteps)\n",
    "\n",
    "for i in range(Runs):\n",
    "    a = np.zeros(Bandits)\n",
    "    r = np.zeros(TimeSteps)\n",
    "    den = np.ones(Bandits)\n",
    "    AvgOptimal = np.full(Bandits, val)\n",
    "    \n",
    "    for j in range(TimeSteps):\n",
    "        explore = True\n",
    "        currAction = 0\n",
    "        prob = np.random.uniform(0,1)\n",
    "        \n",
    "        if(prob > epsilon):\n",
    "            explore = False\n",
    "            \n",
    "        if(explore):\n",
    "            currAction = np.random.randint(Bandits)\n",
    "        else:\n",
    "            currAction = np.argmax(a)\n",
    "            \n",
    "        reward = np.random.normal(AvgOptimal[currAction], 1)\n",
    "        \n",
    "        a[currAction] += alpha * (reward - a[currAction])\n",
    "        den[currAction] += 1\n",
    "        r[j] = reward\n",
    "        \n",
    "        optimalAction = np.argmax(AvgOptimal)\n",
    "        \n",
    "        if(optimalAction == currAction):\n",
    "            OptimalperStep[j] +=1\n",
    "            \n",
    "    AvgRewardValue += r\n",
    "    \n",
    "EpsilonGreedyRewardPerStepforNonsta = OptimalperStep / Runs"
   ]
  },
  {
   "cell_type": "code",
   "execution_count": 20,
   "metadata": {},
   "outputs": [
    {
     "data": {
      "text/plain": [
       "<matplotlib.legend.Legend at 0x190e1209b70>"
      ]
     },
     "execution_count": 20,
     "metadata": {},
     "output_type": "execute_result"
    },
    {
     "data": {
      "image/png": "[encoded data removed]",
      "text/plain": [
       "<Figure size 432x288 with 1 Axes>"
      ]
     },
     "metadata": {
      "needs_background": "light"
     },
     "output_type": "display_data"
    }
   ],
   "source": [
    "plt.plot(OptimalGreedyRewardPerStepforNonsta,color='r',label='Optimistic greedy')\n",
    "plt.plot(EpsilonGreedyRewardPerStepforNonsta,color='b',label = 'Epsilon greedy')\n",
    "plt.legend()"
   ]
  },
  {
   "cell_type": "code",
   "execution_count": null,
   "metadata": {},
   "outputs": [],
   "source": []
  }
 ],
 "metadata": {
  "kernelspec": {
   "display_name": "Python 3",
   "language": "python",
   "name": "python3"
  },
  "language_info": {
   "codemirror_mode": {
    "name": "ipython",
    "version": 3
   },
   "file_extension": ".py",
   "mimetype": "text/x-python",
   "name": "python",
   "nbconvert_exporter": "python",
   "pygments_lexer": "ipython3",
   "version": "3.6.7"
  }
 },
 "nbformat": 4,
 "nbformat_minor": 2
}
